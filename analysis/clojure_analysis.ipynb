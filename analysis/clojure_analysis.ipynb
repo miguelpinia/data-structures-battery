{
 "cells": [
  {
   "cell_type": "markdown",
   "metadata": {},
   "source": [
    "# Clojupyter + oz example\n",
    "\n",
    "This notebook demonstrates basic usage of oz from a Jupyter notebook using the Clojuypyter kernel.\n",
    "\n",
    "Note that the visualizations below may not render if you're looking at this on GitHub, but will render if you load the notebook into a running Jupyter instance."
   ]
  },
  {
   "cell_type": "code",
   "execution_count": 2,
   "metadata": {
    "collapsed": true,
    "jupyter": {
     "outputs_hidden": true
    }
   },
   "outputs": [
    {
     "data": {
      "text/plain": [
       "{[clj-time \"0.11.0\"] #{[joda-time \"2.8.2\"]}, [org.apache.httpcomponents/httpclient \"4.5.5\" :exclusions [[org.clojure/clojure]]] #{[commons-logging \"1.2\"]}, [org.flatland/ordered \"1.5.2\"] #{[org.flatland/useful \"0.9.0\"]}, [org.clojure/tools.logging \"0.4.1\" :exclusions [[org.clojure/clojure]]] nil, [ring/ring-core \"1.7.1\"] #{[commons-fileupload \"1.3.3\"] [crypto-equality \"1.0.0\"] [crypto-random \"1.2.0\"]}, [reagent \"0.8.1\"] #{[cljsjs/react-dom-server \"16.3.2-0\"] [cljsjs/create-react-class \"15.6.3-0\"] [cljsjs/react-dom \"16.3.2-0\"] [cljsjs/react \"16.3.2-0\"]}, [com.taoensso/timbre \"4.10.0\"] #{[io.aviso/pretty \"0.1.33\"]}, [commons-io \"2.6\" :exclusions [[org.clojure/clojure]]] nil, [org.msgpack/msgpack \"0.6.12\"] #{[com.googlecode.json-simple/json-simple \"1.1.1\" :exclusions [[junit]]] [org.javassist/javassist \"3.18.1-GA\"]}, [org.sonatype.aether/aether-spi \"1.13.1\"] nil, [com.clojure-goes-fast/lazy-require \"0.1.1\"] nil, [org.apache.maven.wagon/wagon-http \"2.2\"] #{[org.apache.maven.wagon/wagon-http-shared4 \"2.2\"]}, [io.aleph/dirigiste \"0.1.5\"] nil, [instaparse \"1.4.8\" :exclusions [[org.clojure/clojure]]] nil, [hickory \"0.7.1\"] #{[quoin \"0.1.2\" :exclusions [[org.clojure/clojure]]] [org.jsoup/jsoup \"1.9.2\"] [viebel/codox-klipse-theme \"0.0.1\"]}, [org.eclipse.jetty/jetty-util \"9.4.12.v20180830\"] nil, [org.apache.httpcomponents/httpcore-nio \"4.4.6\"] nil, [tigris \"0.1.1\"] nil, [org.sonatype.sisu/sisu-inject-bean \"2.2.3\"] #{[org.sonatype.sisu/sisu-guice \"3.0.3\" :classifier \"no_aop\" :exclusions [[javax.inject] [aopalliance]]]}, [org.apache.httpcomponents/httpcore \"4.4.9\" :exclusions [[org.clojure/clojure]]] nil, [potemkin \"0.4.5\" :exclusions [[org.clojure/clojure]]] #{[clj-tuple \"0.2.2\"] [riddley \"0.1.12\"]}, [clj-http \"3.9.1\"] #{[org.apache.httpcomponents/httpclient \"4.5.5\" :exclusions [[org.clojure/clojure]]] [commons-io \"2.6\" :exclusions [[org.clojure/clojure]]] [org.apache.httpcomponents/httpcore \"4.4.9\" :exclusions [[org.clojure/clojure]]] [potemkin \"0.4.5\" :exclusions [[org.clojure/clojure]]] [commons-codec \"1.11\" :exclusions [[org.clojure/clojure]]] [org.apache.httpcomponents/httpmime \"4.5.5\" :exclusions [[org.clojure/clojure]]] [slingshot \"0.12.2\" :exclusions [[org.clojure/clojure]]] [org.apache.httpcomponents/httpclient-cache \"4.5.5\" :exclusions [[org.clojure/clojure]]] [org.apache.httpcomponents/httpasyncclient \"4.1.3\" :exclusions [[org.clojure/clojure]]]}, [org.clojure/tools.macro \"0.1.5\"] nil, [bk/ring-gzip \"0.3.0\"] nil, [org.sonatype.aether/aether-api \"1.13.1\"] nil, [com.cognitect/transit-clj \"0.8.313\"] #{[com.cognitect/transit-java \"0.8.337\"]}, [beckon \"0.1.1\"] nil, [org.clojure/google-closure-library \"0.0-20170809-b9c14c6b\"] #{[org.clojure/google-closure-library-third-party \"0.0-20170809-b9c14c6b\"]}, [org.bouncycastle/bcprov-jdk15on \"1.52\" :exclusions [[org.clojure/clojure]]] nil, [org.clojure/clojure \"1.10.0\"] #{[org.clojure/core.specs.alpha \"0.2.44\"]}, [cljsjs/react-dom-server \"16.3.2-0\"] nil, [com.taoensso/truss \"1.5.0\"] nil, [cljsjs/vega \"4.4.0-0\"] nil, [com.google.code.gson/gson \"2.7\"] nil, [ring \"1.7.1\"] #{[ring/ring-core \"1.7.1\"] [ring/ring-jetty-adapter \"1.7.1\"] [ring/ring-servlet \"1.7.1\"] [ring/ring-devel \"1.7.1\"]}, [ring/ring-headers \"0.3.0\"] nil, [cljsjs/create-react-class \"15.6.3-0\"] nil, [compojure \"1.6.1\"] #{[org.clojure/tools.macro \"0.1.5\"] [medley \"1.0.0\"] [clout \"2.2.1\"] [ring/ring-codec \"1.1.0\"]}, [com.taoensso/sente \"1.13.1\"] #{[com.taoensso/timbre \"4.10.0\"] [org.clojure/tools.reader \"1.3.0\"] [com.taoensso/encore \"2.96.0\"]}, [javax.xml.bind/jaxb-api \"2.3.0\"] nil, [org.codehaus.mojo/animal-sniffer-annotations \"1.14\"] nil, [com.google.errorprone/error_prone_annotations \"2.0.18\"] nil, [org.clojure/data.codec \"0.1.0\"] nil, [org.apache.commons/commons-lang3 \"3.8.1\"] nil, [aleph \"0.4.6\"] #{[org.clojure/tools.logging \"0.4.1\" :exclusions [[org.clojure/clojure]]] [io.netty/netty-codec \"4.1.25.Final\"] [io.netty/netty-codec-http \"4.1.25.Final\"] [io.netty/netty-resolver-dns \"4.1.25.Final\"] [io.netty/netty-handler \"4.1.25.Final\"] [io.netty/netty-resolver \"4.1.25.Final\"] [io.netty/netty-handler-proxy \"4.1.25.Final\"] [io.netty/netty-transport \"4.1.25.Final\"] [manifold \"0.1.8\"] [io.netty/netty-transport-native-epoll \"4.1.25.Final\"] [byte-streams \"0.2.4\"]}, [ring/ring-ssl \"0.3.0\"] nil, [metasoarous/oz \"1.5.0\"] #{[reagent \"0.8.1\"] [com.clojure-goes-fast/lazy-require \"0.1.1\"] [clj-http \"3.9.1\"] [bk/ring-gzip \"0.3.0\"] [com.cognitect/transit-clj \"0.8.313\"] [org.clojure/clojure \"1.10.0\"] [cljsjs/vega \"4.4.0-0\"] [ring \"1.7.1\"] [compojure \"1.6.1\"] [com.taoensso/sente \"1.13.1\"] [aleph \"0.4.6\"] [markdown-to-hiccup \"0.6.1\"] [commonmark-hiccup \"0.1.0\"] [hiccup \"1.0.5\"] [cljsjs/vega-tooltip \"0.14.0-0\"] [ring-cljsjs \"0.1.0\"] [org.clojars.didiercrunch/clojupyter \"0.1.5\"] [cljsjs/vega-lite \"3.0.0-rc10-0\"] [cljsjs/vega-embed \"3.26.0-0\"] [com.cognitect/transit-cljs \"0.8.256\"] [cheshire \"5.8.1\"] [org.clojure/core.async \"0.4.490\"] [ring/ring-defaults \"0.3.2\"] [org.clojure/spec.alpha \"0.2.176\"] [io.forward/yaml \"1.0.9\"] [irresponsible/tentacles \"0.6.3\"]}, [commons-fileupload \"1.3.3\"] nil, [io.netty/netty-codec-dns \"4.1.25.Final\"] nil, [ring/ring-jetty-adapter \"1.7.1\"] #{[org.eclipse.jetty/jetty-server \"9.4.12.v20180830\"]}, [com.google.code.findbugs/jsr305 \"3.0.1\"] nil, [org.clojure/java.jdbc \"0.3.7\"] nil, [org.clojure/tools.analyzer \"0.6.9\"] nil, [org.codehaus.plexus/plexus-component-annotations \"1.5.5\" :exclusions [[junit]]] nil, [org.flatland/useful \"0.9.0\"] nil, [com.google.jsinterop/jsinterop-annotations \"1.0.0\"] nil, [markdown-to-hiccup \"0.6.1\"] #{[hickory \"0.7.1\"] [org.apache.commons/commons-lang3 \"3.8.1\"] [org.clojure/clojurescript \"1.10.238\"] [markdown-clj \"1.0.7\"]}, [net.cgrand/regex \"1.1.0\"] nil, [org.apache.maven.wagon/wagon-http-shared4 \"2.2\"] nil, [ns-tracker \"0.3.1\"] #{[org.clojure/java.classpath \"0.2.3\"] [org.clojure/tools.namespace \"0.2.11\"]}, [io.netty/netty-codec \"4.1.25.Final\"] nil, [org.codehaus.plexus/plexus-classworlds \"2.4\"] nil, [org.clojure/java.classpath \"0.2.3\"] nil, [cider/cider-nrepl \"0.15.1\"] #{[org.tcrawley/dynapath \"0.2.5\" :exclusions [[org.clojure/clojure]]]}, [io.netty/netty-codec-http \"4.1.25.Final\"] nil, [commonmark-hiccup \"0.1.0\"] #{[com.atlassian.commonmark/commonmark \"0.8.0\"]}, [org.codehaus.plexus/plexus-interpolation \"1.14\"] nil, [pandect \"0.5.4\"] #{[org.bouncycastle/bcprov-jdk15on \"1.52\" :exclusions [[org.clojure/clojure]]]}, [com.atlassian.commonmark/commonmark \"0.8.0\"] nil, [cljsjs/react-dom \"16.3.2-0\"] nil, [org.clojure/tools.reader \"1.3.0\"] nil, [io.netty/netty-transport-native-unix-common \"4.1.25.Final\"] nil, [medley \"1.0.0\"] nil, [crypto-equality \"1.0.0\"] nil, [io.netty/netty-resolver-dns \"4.1.25.Final\"] #{[io.netty/netty-codec-dns \"4.1.25.Final\"]}, [quoin \"0.1.2\" :exclusions [[org.clojure/clojure]]] nil, [org.sonatype.aether/aether-util \"1.13.1\"] nil, [com.cemerick/clojurescript.test \"0.0.4\"] nil, [primitive-math \"0.1.6\"] nil, [commons-codec \"1.11\" :exclusions [[org.clojure/clojure]]] nil, [org.apache.httpcomponents/httpmime \"4.5.5\" :exclusions [[org.clojure/clojure]]] nil, [io.netty/netty-handler \"4.1.25.Final\"] nil, [org.clojure/core.memoize \"0.5.9\"] #{[org.clojure/core.cache \"0.6.5\"]}, [com.cognitect/transit-js \"0.8.846\"] nil, [ring/ring-servlet \"1.7.1\"] nil, [com.google.j2objc/j2objc-annotations \"1.1\"] nil, [org.clojure/google-closure-library-third-party \"0.0-20170809-b9c14c6b\"] nil, [com.googlecode.json-simple/json-simple \"1.1.1\" :exclusions [[junit]]] nil, [org.zeromq/cljzmq \"0.1.4\" :exclusions [[org.zeromq/jzmq]]] nil, [hiccup \"1.0.5\"] nil, [clout \"2.2.1\"] #{[instaparse \"1.4.8\" :exclusions [[org.clojure/clojure]]]}, [clj-tuple \"0.2.2\"] nil, [org.apache.maven/maven-aether-provider \"3.0.4\"] #{[org.codehaus.plexus/plexus-component-annotations \"1.5.5\" :exclusions [[junit]]] [org.codehaus.plexus/plexus-utils \"2.0.6\"] [org.apache.maven/maven-repository-metadata \"3.0.4\"] [org.apache.maven/maven-model-builder \"3.0.4\"] [org.apache.maven/maven-model \"3.0.4\"]}, [io.netty/netty-buffer \"4.1.25.Final\"] nil, [org.clojure/clojurescript \"1.10.238\"] #{[org.clojure/google-closure-library \"0.0-20170809-b9c14c6b\"] [com.google.javascript/closure-compiler-unshaded \"v20180204\"] [org.mozilla/rhino \"1.7R5\"]}, [com.cemerick/url \"0.1.1\"] #{[pathetic \"0.5.0\"]}, [org.clojure/tools.nrepl \"0.2.12\"] nil, [org.eclipse.jetty/jetty-io \"9.4.12.v20180830\"] nil, [slingshot \"0.12.2\" :exclusions [[org.clojure/clojure]]] nil, [com.google.javascript/closure-compiler-unshaded \"v20180204\"] #{[com.google.code.gson/gson \"2.7\"] [com.google.errorprone/error_prone_annotations \"2.0.18\"] [com.google.code.findbugs/jsr305 \"3.0.1\"] [com.google.jsinterop/jsinterop-annotations \"1.0.0\"] [args4j \"2.33\"] [com.google.protobuf/protobuf-java \"3.0.2\"] [com.google.guava/guava \"22.0\"] [com.google.javascript/closure-compiler-externs \"v20180204\"]}, [args4j \"2.33\"] nil, [com.taoensso/encore \"2.96.0\"] #{[com.taoensso/truss \"1.5.0\"]}, [pathetic \"0.5.0\"] #{[com.cemerick/clojurescript.test \"0.0.4\"]}, [org.codehaus.plexus/plexus-utils \"2.0.6\"] nil, [cljsjs/vega-tooltip \"0.14.0-0\"] nil, [io.aviso/pretty \"0.1.33\"] nil, [ring/ring-devel \"1.7.1\"] #{[ns-tracker \"0.3.1\"] [clj-stacktrace \"0.2.8\"]}, [ring-cljsjs \"0.1.0\"] nil, [org.clojure/tools.namespace \"0.2.11\"] nil, [io.netty/netty-resolver \"4.1.25.Final\"] nil, [org.jsoup/jsoup \"1.9.2\"] nil, [com.google.protobuf/protobuf-java \"3.0.2\"] nil, [io.netty/netty-common \"4.1.25.Final\"] nil, [org.ow2.asm/asm-all \"4.2\"] nil, [org.sonatype.aether/aether-connector-wagon \"1.13.1\" :exclusions [[org.codehaus.plexus/plexus-utils]]] #{[org.codehaus.plexus/plexus-classworlds \"2.4\"] [org.sonatype.sisu/sisu-inject-plexus \"2.2.3\"]}, [org.clojure/data.json \"0.2.6\"] nil, [org.clojure/data.priority-map \"0.0.7\"] nil, [net.cgrand/sjacket \"0.1.1\" :exclusions [[org.clojure/clojure] [net.cgrand.parsley]]] nil, [io.netty/netty-codec-socks \"4.1.25.Final\"] nil, [org.eclipse.jetty/jetty-server \"9.4.12.v20180830\"] #{[org.eclipse.jetty/jetty-io \"9.4.12.v20180830\"] [org.eclipse.jetty/jetty-http \"9.4.12.v20180830\"]}, [com.cognitect/transit-java \"0.8.337\"] #{[org.msgpack/msgpack \"0.6.12\"] [javax.xml.bind/jaxb-api \"2.3.0\"]}, [com.cemerick/pomegranate \"0.3.1\"] #{[org.apache.maven.wagon/wagon-http \"2.2\"] [org.sonatype.aether/aether-api \"1.13.1\"] [org.sonatype.aether/aether-util \"1.13.1\"] [org.apache.maven/maven-aether-provider \"3.0.4\"] [org.sonatype.aether/aether-connector-wagon \"1.13.1\" :exclusions [[org.codehaus.plexus/plexus-utils]]] [org.apache.maven.wagon/wagon-provider-api \"2.2\"] [org.sonatype.aether/aether-impl \"1.13.1\"] [org.sonatype.aether/aether-connector-file \"1.13.1\"]}, [org.apache.maven/maven-repository-metadata \"3.0.4\"] nil, [org.clojars.didiercrunch/clojupyter \"0.1.5\"] #{[clj-time \"0.11.0\"] [beckon \"0.1.1\"] [org.clojure/data.codec \"0.1.0\"] [org.clojure/java.jdbc \"0.3.7\"] [cider/cider-nrepl \"0.15.1\"] [pandect \"0.5.4\"] [org.zeromq/cljzmq \"0.1.4\" :exclusions [[org.zeromq/jzmq]]] [org.clojure/tools.nrepl \"0.2.12\"] [org.clojure/data.json \"0.2.6\"] [net.cgrand/sjacket \"0.1.1\" :exclusions [[org.clojure/clojure] [net.cgrand.parsley]]] [com.cemerick/pomegranate \"0.3.1\"] [org.xerial/sqlite-jdbc \"3.7.2\"] [net.cgrand/parsley \"0.9.3\" :exclusions [[org.clojure/clojure]]] [org.zeromq/jeromq \"0.3.4\"]}, [org.tcrawley/dynapath \"0.2.5\" :exclusions [[org.clojure/clojure]]] nil, [cljsjs/vega-lite \"3.0.0-rc10-0\"] nil, [environ \"1.1.0\"] nil, [crypto-random \"1.2.0\"] nil, [io.netty/netty-handler-proxy \"4.1.25.Final\"] #{[io.netty/netty-codec-socks \"4.1.25.Final\"]}, [javax.servlet/javax.servlet-api \"3.1.0\"] nil, [io.netty/netty-transport \"4.1.25.Final\"] #{[io.netty/netty-buffer \"4.1.25.Final\"]}, [org.apache.maven.wagon/wagon-provider-api \"2.2\"] nil, [riddley \"0.1.12\"] nil, [manifold \"0.1.8\"] #{[io.aleph/dirigiste \"0.1.5\"]}, [org.xerial/sqlite-jdbc \"3.7.2\"] nil, [commons-logging \"1.2\"] nil, [cljsjs/vega-embed \"3.26.0-0\"] nil, [io.netty/netty-transport-native-epoll \"4.1.25.Final\"] #{[io.netty/netty-transport-native-unix-common \"4.1.25.Final\"] [io.netty/netty-common \"4.1.25.Final\"]}, [org.apache.httpcomponents/httpclient-cache \"4.5.5\" :exclusions [[org.clojure/clojure]]] nil, [com.cognitect/transit-cljs \"0.8.256\"] #{[com.cognitect/transit-js \"0.8.846\"]}, [markdown-clj \"1.0.7\"] nil, [cheshire \"5.8.1\"] #{[tigris \"0.1.1\"] [com.fasterxml.jackson.core/jackson-core \"2.9.6\"] [com.fasterxml.jackson.dataformat/jackson-dataformat-cbor \"2.9.6\"] [com.fasterxml.jackson.dataformat/jackson-dataformat-smile \"2.9.6\"]}, [org.eclipse.jetty/jetty-http \"9.4.12.v20180830\"] #{[org.eclipse.jetty/jetty-util \"9.4.12.v20180830\"]}, [org.mozilla/rhino \"1.7R5\"] nil, [org.apache.maven/maven-model-builder \"3.0.4\"] #{[org.codehaus.plexus/plexus-interpolation \"1.14\"]}, [cljsjs/react \"16.3.2-0\"] nil, [com.fasterxml.jackson.core/jackson-core \"2.9.6\"] nil, [com.fasterxml.jackson.dataformat/jackson-dataformat-cbor \"2.9.6\"] nil, [org.clojure/core.specs.alpha \"0.2.44\"] nil, [org.sonatype.aether/aether-impl \"1.13.1\"] #{[org.sonatype.aether/aether-spi \"1.13.1\"]}, [com.google.guava/guava \"22.0\"] #{[org.codehaus.mojo/animal-sniffer-annotations \"1.14\"] [com.google.j2objc/j2objc-annotations \"1.1\"]}, [ring/ring-anti-forgery \"1.3.0\"] nil, [org.sonatype.aether/aether-connector-file \"1.13.1\"] nil, [net.cgrand/parsley \"0.9.3\" :exclusions [[org.clojure/clojure]]] #{[net.cgrand/regex \"1.1.0\"]}, [byte-streams \"0.2.4\"] #{[primitive-math \"0.1.6\"]}, [org.javassist/javassist \"3.18.1-GA\"] nil, [com.google.javascript/closure-compiler-externs \"v20180204\"] nil, [org.apache.maven/maven-model \"3.0.4\"] nil, [ring/ring-codec \"1.1.0\"] nil, [org.clojure/core.cache \"0.6.5\"] #{[org.clojure/data.priority-map \"0.0.7\"]}, [org.yaml/snakeyaml \"1.19\"] nil, [org.apache.httpcomponents/httpasyncclient \"4.1.3\" :exclusions [[org.clojure/clojure]]] #{[org.apache.httpcomponents/httpcore-nio \"4.4.6\"]}, [org.clojure/core.async \"0.4.490\"] #{[org.clojure/tools.analyzer.jvm \"0.7.2\"]}, [ring/ring-defaults \"0.3.2\"] #{[ring/ring-headers \"0.3.0\"] [ring/ring-ssl \"0.3.0\"] [javax.servlet/javax.servlet-api \"3.1.0\"] [ring/ring-anti-forgery \"1.3.0\"]}, [joda-time \"2.8.2\"] nil, [org.sonatype.sisu/sisu-inject-plexus \"2.2.3\"] #{[org.sonatype.sisu/sisu-inject-bean \"2.2.3\"]}, [org.clojure/spec.alpha \"0.2.176\"] nil, [org.zeromq/jeromq \"0.3.4\"] nil, [com.fasterxml.jackson.dataformat/jackson-dataformat-smile \"2.9.6\"] nil, [clj-stacktrace \"0.2.8\"] nil, [io.forward/yaml \"1.0.9\"] #{[org.flatland/ordered \"1.5.2\"] [org.yaml/snakeyaml \"1.19\"]}, [org.clojure/tools.analyzer.jvm \"0.7.2\"] #{[org.clojure/tools.analyzer \"0.6.9\"] [org.clojure/core.memoize \"0.5.9\"] [org.ow2.asm/asm-all \"4.2\"]}, [viebel/codox-klipse-theme \"0.0.1\"] nil, [org.sonatype.sisu/sisu-guice \"3.0.3\" :classifier \"no_aop\" :exclusions [[javax.inject] [aopalliance]]] nil, [irresponsible/tentacles \"0.6.3\"] #{[com.cemerick/url \"0.1.1\"] [environ \"1.1.0\"]}}"
      ]
     },
     "execution_count": 2,
     "metadata": {},
     "output_type": "execute_result"
    }
   ],
   "source": [
    "(require '[clojupyter.misc.helper :as helper])\n",
    "(helper/add-dependencies '[metasoarous/oz \"1.5.0\"])"
   ]
  },
  {
   "cell_type": "code",
   "execution_count": 3,
   "metadata": {
    "collapsed": true,
    "jupyter": {
     "outputs_hidden": true
    }
   },
   "outputs": [
    {
     "data": {
      "text/plain": [
       "{[org.bouncycastle/bctsp-jdk14 \"1.46\"] #{[org.bouncycastle/bcprov-jdk14 \"1.46\"] [org.bouncycastle/bcmail-jdk14 \"1.46\"]}, [org.apache.xmlgraphics/batik-css \"1.9.1\"] nil, [org.clojure/clojure \"1.8.0\"] nil, [org.apache.poi/poi-ooxml-schemas \"3.16\"] #{[org.apache.xmlbeans/xmlbeans \"2.6.0\"]}, [org.apache.xmlgraphics/xmlgraphics-commons \"2.2\"] #{[commons-io \"1.3.1\"] [commons-logging \"1.0.4\"]}, [org.apache.xmlgraphics/batik-constants \"1.9.1\"] nil, [net.sf.opencsv/opencsv \"2.3\"] nil, [net.sourceforge.f2j/arpack_combined_all \"0.1\"] nil, [org.clojure/tools.macro \"0.1.5\"] nil, [net.mikera/vectorz \"0.62.0\"] #{[net.mikera/mathz \"0.3.0\"] [us.bpsm/edn-java \"0.4.6\"] [net.mikera/randomz \"0.3.0\"]}, [org.clojure/core.incubator \"0.1.4\"] nil, [net.sourceforge.parallelcolt/parallelcolt \"0.10.1\"] #{[com.github.rwl/JKLU \"1.0.0\"] [net.sourceforge.csparsej/csparsej \"1.1.1\"] [com.googlecode.netlib-java/netlib-java \"0.9.3\"] [net.sourceforge.parallelcolt/optimization \"1.0\"] [net.sourceforge.jtransforms/jtransforms \"2.4.0\"] [net.sourceforge.jplasma/jplasma \"1.2.0\"]}, [incanter/incanter-latex \"1.9.3\"] #{[org.scilab.forge/jlatexmath \"1.0.6\"]}, [com.github.rwl/JKLU \"1.0.0\"] #{[com.github.rwl/BTFJ \"1.0.1\"] [com.github.rwl/AMDJ \"1.0.1\"] [com.github.rwl/COLAMDJ \"1.0.1\"]}, [stax/stax-api \"1.0.1\"] nil, [org.apache.poi/poi \"3.16\"] #{[org.apache.commons/commons-collections4 \"4.1\"] [commons-codec \"1.10\"]}, [org.apache.xmlgraphics/batik-ext \"1.9.1\"] nil, [commons-io \"1.3.1\"] nil, [org.apache.xmlgraphics/batik-i18n \"1.9.1\"] nil, [commons-logging \"1.0.4\"] nil, [org.apache.xmlgraphics/batik-util \"1.9.1\"] #{[org.apache.xmlgraphics/batik-constants \"1.9.1\"] [org.apache.xmlgraphics/batik-i18n \"1.9.1\"]}, [congomongo \"0.5.0\" :exclusions [[org.clojure/clojure] [org.clojure/clojure-contrib]]] #{[org.clojure/data.json \"0.2.6\"] [org.mongodb/mongo-java-driver \"2.14.0\"]}, [org.apache.commons/commons-collections4 \"4.1\"] nil, [junit \"4.8.2\"] nil, [postgresql \"8.4-702.jdbc4\"] nil, [org.apache.derby/derby \"10.1.1.0\"] nil, [net.sourceforge.csparsej/csparsej \"1.1.1\"] nil, [org.apache.xmlbeans/xmlbeans \"2.6.0\"] #{[stax/stax-api \"1.0.1\"]}, [org.clojure/java.jdbc \"0.2.3\"] nil, [xml-apis \"1.3.04\"] nil, [com.github.virtuald/curvesapi \"1.04\"] nil, [incanter/incanter-excel \"1.9.3\"] #{[org.apache.poi/poi-ooxml \"3.16\"]}, [org.apache.xmlgraphics/batik-awt-util \"1.9.1\"] #{[org.apache.xmlgraphics/xmlgraphics-commons \"2.2\"]}, [net.mikera/vectorz-clj \"0.44.1\" :exclusions [[org.clojure/clojure]]] #{[net.mikera/vectorz \"0.62.0\"] [net.mikera/clojure-utils \"0.7.0\"]}, [org.apache.xmlgraphics/batik-dom \"1.9.1\"] #{[org.apache.xmlgraphics/batik-css \"1.9.1\"] [org.apache.xmlgraphics/batik-ext \"1.9.1\"] [xml-apis \"1.3.04\"] [xml-apis/xml-apis-ext \"1.3.04\"] [xalan \"2.7.2\"]}, [com.googlecode.netlib-java/netlib-java \"0.9.3\"] nil, [org.bouncycastle/bcprov-jdk14 \"1.46\"] nil, [net.mikera/mathz \"0.3.0\"] nil, [net.mikera/core.matrix \"0.52.0\" :exclusions [[org.clojure/clojure]]] #{[org.clojure/tools.macro \"0.1.5\"]}, [incanter/incanter-core \"1.9.3\"] #{[net.sourceforge.parallelcolt/parallelcolt \"0.10.1\"] [net.mikera/vectorz-clj \"0.44.1\" :exclusions [[org.clojure/clojure]]] [net.mikera/core.matrix \"0.52.0\" :exclusions [[org.clojure/clojure]]] [org.clojure/math.combinatorics \"0.1.4\" :exclusions [[org.clojure/clojure]]]}, [net.sourceforge.parallelcolt/optimization \"1.0\"] nil, [org.clojure/math.combinatorics \"0.1.4\" :exclusions [[org.clojure/clojure]]] nil, [org.clojure/data.csv \"0.1.4\" :exclusions [[org.clojure/clojure]]] nil, [org.clojure/tools.nrepl \"0.2.12\"] nil, [com.github.rwl/BTFJ \"1.0.1\"] nil, [incanter/incanter-pdf \"1.9.3\"] #{[org.bouncycastle/bctsp-jdk14 \"1.46\"] [com.lowagie/itext \"2.1.7\" :exclusions [[org.bouncycastle/bctsp-jdk14] [bouncycastle/bcprov-jdk14] [bouncycastle/bcmail-jdk14]]]}, [org.apache.xmlgraphics/batik-xml \"1.9.1\"] nil, [org.bouncycastle/bcmail-jdk14 \"1.46\"] nil, [incanter/incanter-svg \"1.9.3\"] #{[org.apache.xmlgraphics/batik-util \"1.9.1\"] [org.apache.xmlgraphics/batik-awt-util \"1.9.1\"] [org.apache.xmlgraphics/batik-dom \"1.9.1\"] [org.apache.xmlgraphics/batik-xml \"1.9.1\"] [org.apache.xmlgraphics/batik-svggen \"1.9.1\"]}, [xalan/serializer \"2.7.2\"] nil, [org.jfree/jcommon \"1.0.23\"] nil, [net.sourceforge.jtransforms/jtransforms \"2.4.0\"] #{[junit \"4.8.2\"]}, [clj-time \"0.14.0\" :exclusions [[org.clojure/clojure]]] #{[joda-time \"2.9.7\"]}, [org.jfree/jfreechart \"1.0.19\"] #{[org.jfree/jcommon \"1.0.23\"]}, [us.bpsm/edn-java \"0.4.6\"] nil, [org.danlarkin/clojure-json \"1.1\" :exclusions [[org.clojure/clojure] [org.clojure/clojure-contrib]]] nil, [clojureql \"1.0.5\" :exclusions [[org.clojure/clojure]]] #{[org.clojure/core.incubator \"0.1.4\"] [postgresql \"8.4-702.jdbc4\"] [org.apache.derby/derby \"10.1.1.0\"] [org.clojure/java.jdbc \"0.2.3\"] [org.clojure/tools.nrepl \"0.2.12\"] [org.xerial/sqlite-jdbc \"3.7.2\"] [mysql/mysql-connector-java \"5.1.17\"]}, [com.lowagie/itext \"2.1.7\" :exclusions [[org.bouncycastle/bctsp-jdk14] [bouncycastle/bcprov-jdk14] [bouncycastle/bcmail-jdk14]]] nil, [net.mikera/clojure-utils \"0.7.0\"] nil, [joda-time \"2.9.7\"] nil, [org.clojure/data.json \"0.2.6\"] nil, [incanter/incanter-mongodb \"1.9.3\"] #{[congomongo \"0.5.0\" :exclusions [[org.clojure/clojure] [org.clojure/clojure-contrib]]]}, [xml-apis/xml-apis-ext \"1.3.04\"] nil, [org.scilab.forge/jlatexmath-font-greek \"1.0.6\"] nil, [incanter \"1.9.3\"] #{[org.clojure/clojure \"1.8.0\"] [incanter/incanter-latex \"1.9.3\"] [incanter/incanter-excel \"1.9.3\"] [incanter/incanter-core \"1.9.3\"] [incanter/incanter-pdf \"1.9.3\"] [incanter/incanter-svg \"1.9.3\"] [incanter/incanter-mongodb \"1.9.3\"] [swingrepl \"1.3.0\" :exclusions [[org.clojure/clojure] [org.clojure/clojure-contrib]]] [incanter/incanter-io \"1.9.3\"] [incanter/incanter-sql \"1.9.3\"] [incanter/incanter-charts \"1.9.3\"] [incanter/incanter-zoo \"1.9.3\"]}, [org.xerial/sqlite-jdbc \"3.7.2\"] nil, [swingrepl \"1.3.0\" :exclusions [[org.clojure/clojure] [org.clojure/clojure-contrib]]] nil, [org.scilab.forge/jlatexmath \"1.0.6\"] #{[org.scilab.forge/jlatexmath-font-greek \"1.0.6\"] [org.scilab.forge/jlatexmath-font-cyrillic \"1.0.6\"]}, [net.sourceforge.jplasma/jplasma \"1.2.0\"] #{[net.sourceforge.f2j/arpack_combined_all \"0.1\"] [net.sourceforge.jplasma/core-lapack \"0.1\"]}, [incanter/incanter-io \"1.9.3\"] #{[net.sf.opencsv/opencsv \"2.3\"] [org.clojure/data.csv \"0.1.4\" :exclusions [[org.clojure/clojure]]] [org.danlarkin/clojure-json \"1.1\" :exclusions [[org.clojure/clojure] [org.clojure/clojure-contrib]]]}, [incanter/incanter-sql \"1.9.3\"] #{[clojureql \"1.0.5\" :exclusions [[org.clojure/clojure]]]}, [xalan \"2.7.2\"] #{[xalan/serializer \"2.7.2\"]}, [com.github.rwl/AMDJ \"1.0.1\"] nil, [org.apache.xmlgraphics/batik-svggen \"1.9.1\"] nil, [net.mikera/randomz \"0.3.0\"] nil, [incanter/incanter-charts \"1.9.3\"] #{[clj-time \"0.14.0\" :exclusions [[org.clojure/clojure]]] [org.jfree/jfreechart \"1.0.19\"]}, [org.apache.poi/poi-ooxml \"3.16\"] #{[org.apache.poi/poi-ooxml-schemas \"3.16\"] [org.apache.poi/poi \"3.16\"] [com.github.virtuald/curvesapi \"1.04\"]}, [mysql/mysql-connector-java \"5.1.17\"] nil, [org.scilab.forge/jlatexmath-font-cyrillic \"1.0.6\"] nil, [org.mongodb/mongo-java-driver \"2.14.0\"] nil, [incanter/incanter-zoo \"1.9.3\"] nil, [commons-codec \"1.10\"] nil, [net.sourceforge.jplasma/core-lapack \"0.1\"] nil, [com.github.rwl/COLAMDJ \"1.0.1\"] nil}"
      ]
     },
     "execution_count": 3,
     "metadata": {},
     "output_type": "execute_result"
    }
   ],
   "source": [
    "(helper/add-dependencies '[incanter \"1.9.3\"])"
   ]
  },
  {
   "cell_type": "code",
   "execution_count": 4,
   "metadata": {
    "collapsed": true,
    "jupyter": {
     "outputs_hidden": true
    }
   },
   "outputs": [
    {
     "data": {
      "text/plain": [
       "{[cheshire \"5.12.0\"] #{[tigris \"0.1.2\"] [com.fasterxml.jackson.dataformat/jackson-dataformat-cbor \"2.15.2\" :exclusions [[com.fasterxml.jackson.core/jackson-databind]]] [com.fasterxml.jackson.dataformat/jackson-dataformat-smile \"2.15.2\" :exclusions [[com.fasterxml.jackson.core/jackson-databind]]] [com.fasterxml.jackson.core/jackson-core \"2.15.2\"]}, [com.fasterxml.jackson.core/jackson-core \"2.15.2\"] nil, [com.fasterxml.jackson.dataformat/jackson-dataformat-smile \"2.15.2\" :exclusions [[com.fasterxml.jackson.core/jackson-databind]]] nil, [com.fasterxml.jackson.dataformat/jackson-dataformat-cbor \"2.15.2\" :exclusions [[com.fasterxml.jackson.core/jackson-databind]]] nil, [tigris \"0.1.2\"] nil}"
      ]
     },
     "execution_count": 4,
     "metadata": {},
     "output_type": "execute_result"
    }
   ],
   "source": [
    "(helper/add-dependencies '[cheshire \"5.12.0\"])"
   ]
  },
  {
   "cell_type": "code",
   "execution_count": 5,
   "metadata": {},
   "outputs": [
    {
     "name": "stderr",
     "output_type": "stream",
     "text": [
      "WARNING: abs already refers to: #'clojure.core/abs in namespace: clojure.core.matrix.impl.mathsops, being replaced by: #'clojure.core.matrix.impl.mathsops/abs\n",
      "Warning: protocol #'clojure.core.matrix.protocols/PMathsFunctions is overwriting function abs\n",
      "WARNING: abs already refers to: #'clojure.core/abs in namespace: clojure.core.matrix.protocols, being replaced by: #'clojure.core.matrix.protocols/abs\n",
      "WARNING: abs already refers to: #'clojure.core/abs in namespace: clojure.core.matrix, being replaced by: #'clojure.core.matrix/abs\n",
      "WARNING: abs already refers to: #'clojure.core/abs in namespace: clojure.core.matrix.dataset, being replaced by: #'clojure.core.matrix/abs\n",
      "WARNING: abs already refers to: #'clojure.core/abs in namespace: incanter.core, being replaced by: #'incanter.core/abs\n",
      "WARNING: abs already refers to: #'clojure.core/abs in namespace: incanter.stats, being replaced by: #'incanter.core/abs\n"
     ]
    },
    {
     "data": {
      "text/plain": [
       "nil"
      ]
     },
     "execution_count": 5,
     "metadata": {},
     "output_type": "execute_result"
    }
   ],
   "source": [
    "(require '[oz.notebook.clojupyter :as oz]\n",
    "         '[cheshire.core :as json]\n",
    "         '[clojure.java.io :as io]\n",
    "         '[incanter.stats :as stats]\n",
    "         '[clojure.walk :as walk])"
   ]
  },
  {
   "cell_type": "markdown",
   "metadata": {},
   "source": [
    "## Utility functions\n",
    "\n",
    "Given a JSON file, we transform it into a Clojure map data structure to manipulate the data inside the JSON."
   ]
  },
  {
   "cell_type": "code",
   "execution_count": 6,
   "metadata": {},
   "outputs": [
    {
     "data": {
      "text/plain": [
       "#'user/json->map"
      ]
     },
     "execution_count": 6,
     "metadata": {},
     "output_type": "execute_result"
    }
   ],
   "source": [
    "(defn json->map [file-name]\n",
    " (->> file-name\n",
    "      io/reader\n",
    "      json/parse-stream\n",
    "      walk/keywordize-keys))"
   ]
  },
  {
   "cell_type": "markdown",
   "metadata": {},
   "source": [
    "Given an array of data, we extract the basic statistics from them. The statistics generated are: mean, standard deviation, variance, median and a basic confidence interval."
   ]
  },
  {
   "cell_type": "code",
   "execution_count": 7,
   "metadata": {},
   "outputs": [
    {
     "data": {
      "text/plain": [
       "#'user/simple-stats"
      ]
     },
     "execution_count": 7,
     "metadata": {},
     "output_type": "execute_result"
    }
   ],
   "source": [
    "(defn simple-stats [data]\n",
    "  {:ci       (stats/simple-ci data)\n",
    "   :mean     (stats/mean data)\n",
    "   :sd       (stats/sd data)\n",
    "   :variance (stats/variance data)\n",
    "   :median   (stats/median data)})"
   ]
  },
  {
   "cell_type": "markdown",
   "metadata": {},
   "source": [
    "Given a map data structure, we write it to a file. The data is formatted to be pretty printed in the file."
   ]
  },
  {
   "cell_type": "code",
   "execution_count": 8,
   "metadata": {},
   "outputs": [
    {
     "data": {
      "text/plain": [
       "#'user/map->json"
      ]
     },
     "execution_count": 8,
     "metadata": {},
     "output_type": "execute_result"
    }
   ],
   "source": [
    "(defn map->json\n",
    "  ([file-output data] (map->json file-output data true))\n",
    "  ([file-output data pretty]\n",
    "   (with-open [writer (io/writer file-output)]\n",
    "     (json/generate-stream data writer {:pretty pretty}))))"
   ]
  },
  {
   "cell_type": "code",
   "execution_count": 9,
   "metadata": {},
   "outputs": [
    {
     "data": {
      "text/plain": [
       "#'user/get-stats"
      ]
     },
     "execution_count": 9,
     "metadata": {},
     "output_type": "execute_result"
    }
   ],
   "source": [
    "(defn get-stats [cores map-algo-filtered]\n",
    "  (map (fn [core]\n",
    "       (let [core-int (-> core name Integer/parseInt)]\n",
    "         (-> map-algo-filtered\n",
    "             (get core)\n",
    "             simple-stats\n",
    "             (assoc :core core-int))))\n",
    "     cores))"
   ]
  },
  {
   "cell_type": "code",
   "execution_count": 10,
   "metadata": {},
   "outputs": [
    {
     "data": {
      "text/plain": [
       "#'user/analyze-entries"
      ]
     },
     "execution_count": 10,
     "metadata": {},
     "output_type": "execute_result"
    }
   ],
   "source": [
    "(defn analyze-entries [type cores path]\n",
    "  (let [proc-nums  (map #(keyword (str %)) (range 1 (inc cores)))\n",
    "        data       (->> path\n",
    "                        io/file\n",
    "                        .listFiles\n",
    "                        (filter #(.isFile %))\n",
    "                        (filter #(not (re-matches #\"analysis(\\-*\\w*)*\\.json\" (.getName %))))\n",
    "                        (map json->map))\n",
    "        algorithms (map #(-> % :algorithm keyword) data)\n",
    "        pre-proc   (reduce (fn [acc entry]\n",
    "                             (assoc acc\n",
    "                                    (keyword (:algorithm entry))\n",
    "                                    (:results entry)))\n",
    "                           {}\n",
    "                           data)]\n",
    "    {:type    type\n",
    "     :results (map #(identity\n",
    "                   {:algorithm %\n",
    "                    :stats     (get-stats proc-nums (get pre-proc %))})\n",
    "                 algorithms)}))"
   ]
  },
  {
   "cell_type": "code",
   "execution_count": 11,
   "metadata": {},
   "outputs": [
    {
     "data": {
      "text/plain": [
       "#'user/analysis"
      ]
     },
     "execution_count": 11,
     "metadata": {},
     "output_type": "execute_result"
    }
   ],
   "source": [
    "(defn analysis [type cores file-output dir-input]\n",
    "  (map->json file-output\n",
    "               (analyze-entries type cores dir-input)\n",
    "               true))"
   ]
  },
  {
   "cell_type": "code",
   "execution_count": 12,
   "metadata": {},
   "outputs": [
    {
     "data": {
      "text/plain": [
       "#object[java.io.BufferedWriter 0x2c6eb03b \"java.io.BufferedWriter@2c6eb03b\"]"
      ]
     },
     "execution_count": 12,
     "metadata": {},
     "output_type": "execute_result"
    }
   ],
   "source": [
    "(analysis \"counts\"\n",
    "           64\n",
    "           \"data/LLIC/counts/64/analysis.json\"\n",
    "           \"data/LLIC/counts/64/\")"
   ]
  },
  {
   "cell_type": "code",
   "execution_count": null,
   "metadata": {},
   "outputs": [],
   "source": []
  }
 ],
 "metadata": {
  "kernelspec": {
   "display_name": "Clojure (clojupyter-0.4.323)",
   "language": "clojure",
   "name": "clojupyter-0.4.323"
  },
  "language_info": {
   "file_extension": ".clj",
   "mimetype": "text/x-clojure",
   "name": "clojure",
   "version": "1.11.1"
  },
  "widgets": {
   "application/vnd.jupyter.widget-state+json": {
    "state": {},
    "version_major": 2,
    "version_minor": 0
   }
  }
 },
 "nbformat": 4,
 "nbformat_minor": 4
}
